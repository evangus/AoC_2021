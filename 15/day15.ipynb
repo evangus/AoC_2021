{
 "cells": [
  {
   "cell_type": "code",
   "execution_count": 8,
   "metadata": {},
   "outputs": [],
   "source": [
    "import numpy as np"
   ]
  },
  {
   "cell_type": "code",
   "execution_count": 1,
   "metadata": {},
   "outputs": [],
   "source": [
    "def read_input(filename, split = False, convert_to_int = False, sep = '\\n'):\n",
    "    f = open(filename)\n",
    "    raw = f.read()[:-1]\n",
    "    f.close()\n",
    "    data = raw\n",
    "    if split:\n",
    "        data = data.split(sep)\n",
    "    if convert_to_int:\n",
    "        data = [int(item) for item in data]\n",
    "    return data"
   ]
  },
  {
   "cell_type": "code",
   "execution_count": 2,
   "metadata": {},
   "outputs": [],
   "source": [
    "sample_data, data = read_input('sample.txt',True), read_input('input.txt',True)"
   ]
  },
  {
   "cell_type": "code",
   "execution_count": 98,
   "metadata": {},
   "outputs": [],
   "source": [
    "class ChitonsCavern:\n",
    "    def __init__(self, data):\n",
    "        self.map = np.ones((len(data)+2,len(data[0])+2))*(len(data)**2*10)\n",
    "        for y in range(1,len(data)+1):\n",
    "            for x in range(1,len(data[0])+1):\n",
    "                self.map[y,x] = int(data[y-1][x-1])\n",
    "\n",
    "        self.root = (1,1)\n",
    "        self.current = self.root\n",
    "        self.queue = []\n",
    "        self.distances = {self.root: 0}\n",
    "        self.distances_map = np.zeros(self.map.shape)\n",
    "    \n",
    "    def run(self):\n",
    "        while self.current != (self.map.shape[0]-2, self.map.shape[1]-2):\n",
    "            #calc distance to unvisited neighbours\n",
    "            for (dy,dx) in [(1,0),(0,1),(-1,0),(0,-1)]:\n",
    "                neighbour = (self.current[0] + dy, self.current[1] + dx)\n",
    "                #add them to queue\n",
    "                if neighbour not in self.distances:\n",
    "                    self.distances[neighbour] = self.distances[self.current] + self.map[neighbour]\n",
    "                    self.queue.append(neighbour)\n",
    "            #take step to the cheapest\n",
    "            next_dot = self.queue[0]\n",
    "            for dot in self.queue:\n",
    "                if self.distances[dot] < self.distances[next_dot]:\n",
    "                    next_dot = dot\n",
    "            self.current = next_dot\n",
    "            self.queue.remove(next_dot)\n",
    "        return self.distances[self.current]\n",
    "            \n",
    "    def map_distances(self):\n",
    "        for dot in self.distances:\n",
    "            self.distances_map[dot] = self.distances[dot]\n",
    "        print(self.distances_map)\n"
   ]
  },
  {
   "cell_type": "code",
   "execution_count": 94,
   "metadata": {},
   "outputs": [
    {
     "name": "stdout",
     "output_type": "stream",
     "text": [
      "CPU times: user 1.18 ms, sys: 12 µs, total: 1.2 ms\n",
      "Wall time: 1.19 ms\n"
     ]
    },
    {
     "data": {
      "text/plain": [
       "True"
      ]
     },
     "execution_count": 94,
     "metadata": {},
     "output_type": "execute_result"
    }
   ],
   "source": [
    "%%time\n",
    "ChitonsCavern(sample_data).run() == 40"
   ]
  },
  {
   "cell_type": "code",
   "execution_count": 101,
   "metadata": {},
   "outputs": [
    {
     "name": "stdout",
     "output_type": "stream",
     "text": [
      "CPU times: user 636 ms, sys: 3.2 ms, total: 639 ms\n",
      "Wall time: 638 ms\n"
     ]
    },
    {
     "data": {
      "text/plain": [
       "403.0"
      ]
     },
     "execution_count": 101,
     "metadata": {},
     "output_type": "execute_result"
    }
   ],
   "source": [
    "%%time\n",
    "ChitonsCavern(data).run()"
   ]
  },
  {
   "cell_type": "code",
   "execution_count": 126,
   "metadata": {},
   "outputs": [],
   "source": [
    "class LargeChitonsCavern(ChitonsCavern):\n",
    "    def __init__(self, data, n = 5):\n",
    "        self.map = np.ones((len(data)*n+2,len(data[0])*n+2))*((len(data)*n)**2*10)\n",
    "        self.original_block = np.ones((len(data),len(data[0])))\n",
    "        for y in range(len(data)):\n",
    "            for x in range(len(data[0])):\n",
    "                self.original_block[y,x] = int(data[y][x])\n",
    "                \n",
    "        for i in range(n):\n",
    "            for j in range(n):\n",
    "                for y in range(self.original_block.shape[0]):\n",
    "                    for x in range(self.original_block.shape[1]):\n",
    "                        self.map[1 + y + self.original_block.shape[0] * i,\n",
    "                                 1 + x + self.original_block.shape[1] * j] = self.original_block[y,x] + 1 *(i+j)\n",
    "        \n",
    "        for y in range(1,self.map.shape[0]-1):\n",
    "            for x in range(1,self.map.shape[1]-1):\n",
    "                if self.map[y,x] > 9:\n",
    "                    self.map[y,x] = self.map[y,x] % 9\n",
    "\n",
    "        self.root = (1,1)\n",
    "        self.current = self.root\n",
    "        self.queue = []\n",
    "        self.distances = {self.root: 0}\n",
    "        self.distances_map = np.zeros(self.map.shape)        "
   ]
  },
  {
   "cell_type": "code",
   "execution_count": 127,
   "metadata": {},
   "outputs": [
    {
     "name": "stdout",
     "output_type": "stream",
     "text": [
      "CPU times: user 87.8 ms, sys: 2.54 ms, total: 90.4 ms\n",
      "Wall time: 98.2 ms\n"
     ]
    },
    {
     "data": {
      "text/plain": [
       "True"
      ]
     },
     "execution_count": 127,
     "metadata": {},
     "output_type": "execute_result"
    }
   ],
   "source": [
    "%%time\n",
    "LargeChitonsCavern(sample_data).run() == 315"
   ]
  },
  {
   "cell_type": "code",
   "execution_count": 128,
   "metadata": {},
   "outputs": [
    {
     "name": "stdout",
     "output_type": "stream",
     "text": [
      "CPU times: user 1min 25s, sys: 134 ms, total: 1min 26s\n",
      "Wall time: 1min 26s\n"
     ]
    },
    {
     "data": {
      "text/plain": [
       "2840.0"
      ]
     },
     "execution_count": 128,
     "metadata": {},
     "output_type": "execute_result"
    }
   ],
   "source": [
    "%%time\n",
    "LargeChitonsCavern(data).run()"
   ]
  }
 ],
 "metadata": {
  "kernelspec": {
   "display_name": "Python 3",
   "language": "python",
   "name": "python3"
  },
  "language_info": {
   "codemirror_mode": {
    "name": "ipython",
    "version": 3
   },
   "file_extension": ".py",
   "mimetype": "text/x-python",
   "name": "python",
   "nbconvert_exporter": "python",
   "pygments_lexer": "ipython3",
   "version": "3.7.6"
  }
 },
 "nbformat": 4,
 "nbformat_minor": 4
}
