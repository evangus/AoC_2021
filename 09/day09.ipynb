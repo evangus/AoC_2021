{
 "cells": [
  {
   "cell_type": "code",
   "execution_count": 1,
   "metadata": {},
   "outputs": [],
   "source": [
    "def read_input(filename, split = False, convert_to_int = False, sep = '\\n'):\n",
    "    f = open(filename)\n",
    "    raw = f.read()[:-1]\n",
    "    f.close()\n",
    "    data = raw\n",
    "    if split:\n",
    "        data = data.split(sep)\n",
    "    if convert_to_int:\n",
    "        data = [int(item) for item in data]\n",
    "    return data"
   ]
  },
  {
   "cell_type": "code",
   "execution_count": 2,
   "metadata": {},
   "outputs": [],
   "source": [
    "sample_data, data = read_input('sample.txt',True), read_input('input.txt',True)"
   ]
  },
  {
   "cell_type": "code",
   "execution_count": 31,
   "metadata": {},
   "outputs": [],
   "source": [
    "class Heightmap:\n",
    "    def __init__(self, data):\n",
    "        self.map = data\n",
    "        self.low_points = []\n",
    "        self.risk_levels = []\n",
    "        \n",
    "    def check_for_low_point(self, x, y):\n",
    "        ans = True\n",
    "        if x != 0:\n",
    "            ans = ans * (self.map[y][x] < self.map[y][x-1])\n",
    "        if x != len(self.map[0])-1:\n",
    "            ans = ans * (self.map[y][x] < self.map[y][x+1])\n",
    "        if y != 0:\n",
    "            ans = ans * (self.map[y][x] < self.map[y-1][x])\n",
    "        if y != len(self.map)-1:\n",
    "            ans = ans * (self.map[y][x] < self.map[y+1][x])            \n",
    "        return ans\n",
    "    \n",
    "    def find_low_points(self):\n",
    "        for y in range(len(self.map)):\n",
    "            for x in range(len(self.map[0])):\n",
    "                if self.check_for_low_point(x,y):\n",
    "                    self.low_points.append((x,y))\n",
    "                         \n",
    "    def calc_risk_levels(self):\n",
    "        for point in self.low_points:\n",
    "            self.risk_levels.append(int(self.map[point[1]][point[0]])+1)\n",
    "        return sum(self.risk_levels)\n",
    "    \n",
    "    def run(self):\n",
    "        self.find_low_points()\n",
    "        return self.calc_risk_levels()"
   ]
  },
  {
   "cell_type": "code",
   "execution_count": 34,
   "metadata": {},
   "outputs": [
    {
     "data": {
      "text/plain": [
       "True"
      ]
     },
     "execution_count": 34,
     "metadata": {},
     "output_type": "execute_result"
    }
   ],
   "source": [
    "Heightmap(sample_data).run() == 15"
   ]
  },
  {
   "cell_type": "code",
   "execution_count": 35,
   "metadata": {},
   "outputs": [
    {
     "data": {
      "text/plain": [
       "456"
      ]
     },
     "execution_count": 35,
     "metadata": {},
     "output_type": "execute_result"
    }
   ],
   "source": [
    "Heightmap(data).run()"
   ]
  },
  {
   "cell_type": "code",
   "execution_count": 173,
   "metadata": {},
   "outputs": [],
   "source": [
    "class BasinsHeightmap(Heightmap):\n",
    "    def __init__(self, data):\n",
    "        self.map = ['9'*(len(data[0])+2)]\n",
    "        for line in data:\n",
    "            self.map.append('9' + line + '9')\n",
    "        self.map.append('9'*(len(data[0])+2))\n",
    "        self.low_points = []\n",
    "        self.risk_levels = []\n",
    "        self.visited = []\n",
    "        self.basin_sizes = []\n",
    "        \n",
    "    def check_basin(self,x,y):\n",
    "        self.visited.append((x,y))\n",
    "        ans = 0\n",
    "        if self.map[y][x] == '9':\n",
    "            return ans\n",
    "        else:\n",
    "            ans += 1\n",
    "            if (x+1,y) not in self.visited:\n",
    "                ans += self.check_basin(x+1,y)\n",
    "            if (x,y+1) not in self.visited:\n",
    "                ans += self.check_basin(x,y+1)\n",
    "            if (x-1,y) not in self.visited:\n",
    "                ans += self.check_basin(x-1,y)\n",
    "            if (x,y-1) not in self.visited:\n",
    "                ans += self.check_basin(x,y-1)\n",
    "        return ans\n",
    "    \n",
    "    def calc_part2(self):\n",
    "        self.run()\n",
    "        for point in self.low_points:\n",
    "            self.basin_sizes.append(self.check_basin(*point))\n",
    "        self.basin_sizes = sorted(self.basin_sizes)\n",
    "        return self.basin_sizes[-1]*self.basin_sizes[-2]*self.basin_sizes[-3]"
   ]
  },
  {
   "cell_type": "code",
   "execution_count": 175,
   "metadata": {},
   "outputs": [
    {
     "data": {
      "text/plain": [
       "True"
      ]
     },
     "execution_count": 175,
     "metadata": {},
     "output_type": "execute_result"
    }
   ],
   "source": [
    "BasinsHeightmap(sample_data).calc_part2() == 1134"
   ]
  },
  {
   "cell_type": "code",
   "execution_count": 176,
   "metadata": {},
   "outputs": [
    {
     "name": "stdout",
     "output_type": "stream",
     "text": [
      "CPU times: user 4.31 s, sys: 9.26 ms, total: 4.31 s\n",
      "Wall time: 4.32 s\n"
     ]
    },
    {
     "data": {
      "text/plain": [
       "1047744"
      ]
     },
     "execution_count": 176,
     "metadata": {},
     "output_type": "execute_result"
    }
   ],
   "source": [
    "%%time\n",
    "BasinsHeightmap(data).calc_part2()"
   ]
  }
 ],
 "metadata": {
  "kernelspec": {
   "display_name": "Python 3",
   "language": "python",
   "name": "python3"
  },
  "language_info": {
   "codemirror_mode": {
    "name": "ipython",
    "version": 3
   },
   "file_extension": ".py",
   "mimetype": "text/x-python",
   "name": "python",
   "nbconvert_exporter": "python",
   "pygments_lexer": "ipython3",
   "version": "3.7.6"
  }
 },
 "nbformat": 4,
 "nbformat_minor": 4
}
