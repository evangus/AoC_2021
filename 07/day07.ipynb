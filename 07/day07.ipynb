{
 "cells": [
  {
   "cell_type": "code",
   "execution_count": 5,
   "metadata": {},
   "outputs": [],
   "source": [
    "import numpy as np"
   ]
  },
  {
   "cell_type": "code",
   "execution_count": 6,
   "metadata": {},
   "outputs": [],
   "source": [
    "def read_input(filename, split = False, convert_to_int = False, sep = '\\n'):\n",
    "    f = open(filename)\n",
    "    raw = f.read()[:-1]\n",
    "    f.close()\n",
    "    data = raw\n",
    "    if split:\n",
    "        data = data.split(sep)\n",
    "    if convert_to_int:\n",
    "        data = [int(item) for item in data]\n",
    "    return data"
   ]
  },
  {
   "cell_type": "code",
   "execution_count": 7,
   "metadata": {},
   "outputs": [],
   "source": [
    "sample_data, data = read_input('sample.txt',True,True,','), read_input('input.txt',True,True,',')"
   ]
  },
  {
   "cell_type": "code",
   "execution_count": 26,
   "metadata": {},
   "outputs": [],
   "source": [
    "def find_fuel_cost(data):\n",
    "    cost = 0\n",
    "    start = int(np.median(data))\n",
    "    for position in data:\n",
    "        cost += abs(position-start)\n",
    "    \n",
    "    potential_cost = cost\n",
    "    i = 0\n",
    "    while abs(potential_cost-cost) < cost/4:\n",
    "        i+=1\n",
    "        cost1=0\n",
    "        cost2=0\n",
    "        for position in data:\n",
    "            cost1 += abs(position-start-i)\n",
    "            cost2 += abs(position-start+i)\n",
    "        potential_cost = min(cost1, cost2)\n",
    "        if potential_cost < cost:\n",
    "            cost = potential_cost\n",
    "    print(f'Took {i} steps from the median')\n",
    "    return cost"
   ]
  },
  {
   "cell_type": "code",
   "execution_count": 27,
   "metadata": {},
   "outputs": [
    {
     "name": "stdout",
     "output_type": "stream",
     "text": [
      "Took 4 steps from the median\n"
     ]
    },
    {
     "data": {
      "text/plain": [
       "37"
      ]
     },
     "execution_count": 27,
     "metadata": {},
     "output_type": "execute_result"
    }
   ],
   "source": [
    "find_fuel_cost(sample_data)"
   ]
  },
  {
   "cell_type": "code",
   "execution_count": 28,
   "metadata": {},
   "outputs": [
    {
     "name": "stdout",
     "output_type": "stream",
     "text": [
      "Took 375 steps from the median\n",
      "CPU times: user 144 ms, sys: 3.02 ms, total: 147 ms\n",
      "Wall time: 146 ms\n"
     ]
    },
    {
     "data": {
      "text/plain": [
       "356958"
      ]
     },
     "execution_count": 28,
     "metadata": {},
     "output_type": "execute_result"
    }
   ],
   "source": [
    "%%time\n",
    "find_fuel_cost(data)"
   ]
  },
  {
   "cell_type": "code",
   "execution_count": 29,
   "metadata": {},
   "outputs": [],
   "source": [
    "def find_high_fuel_cost(data):\n",
    "    cost = 0\n",
    "    start = int(np.median(data))\n",
    "    for position in data:\n",
    "        dist = abs(position-start)\n",
    "        cost += int((1+dist)/2*dist)\n",
    "    \n",
    "    potential_cost = cost\n",
    "    i = 0\n",
    "    while abs(potential_cost-cost) < cost/4:\n",
    "        i+=1\n",
    "        cost1=0\n",
    "        cost2=0\n",
    "        for position in data:\n",
    "            dist1 = abs(position-start-i)\n",
    "            cost1 += int((1+dist1)/2*dist1)\n",
    "            dist2 = abs(position-start+i)\n",
    "            cost2 += int((1+dist2)/2*dist2)\n",
    "        potential_cost = min(cost1, cost2)\n",
    "        if potential_cost < cost:\n",
    "            cost = potential_cost\n",
    "    print(f'Took {i} steps from the median')\n",
    "    return cost"
   ]
  },
  {
   "cell_type": "code",
   "execution_count": 30,
   "metadata": {},
   "outputs": [
    {
     "name": "stdout",
     "output_type": "stream",
     "text": [
      "Took 6 steps from the median\n"
     ]
    },
    {
     "data": {
      "text/plain": [
       "168"
      ]
     },
     "execution_count": 30,
     "metadata": {},
     "output_type": "execute_result"
    }
   ],
   "source": [
    "find_high_fuel_cost(sample_data)"
   ]
  },
  {
   "cell_type": "code",
   "execution_count": 31,
   "metadata": {},
   "outputs": [
    {
     "name": "stdout",
     "output_type": "stream",
     "text": [
      "Took 397 steps from the median\n"
     ]
    },
    {
     "data": {
      "text/plain": [
       "105461913"
      ]
     },
     "execution_count": 31,
     "metadata": {},
     "output_type": "execute_result"
    }
   ],
   "source": [
    "find_high_fuel_cost(data)"
   ]
  }
 ],
 "metadata": {
  "kernelspec": {
   "display_name": "Python 3",
   "language": "python",
   "name": "python3"
  },
  "language_info": {
   "codemirror_mode": {
    "name": "ipython",
    "version": 3
   },
   "file_extension": ".py",
   "mimetype": "text/x-python",
   "name": "python",
   "nbconvert_exporter": "python",
   "pygments_lexer": "ipython3",
   "version": "3.7.6"
  }
 },
 "nbformat": 4,
 "nbformat_minor": 4
}
