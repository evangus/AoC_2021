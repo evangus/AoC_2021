{
 "cells": [
  {
   "cell_type": "code",
   "execution_count": 26,
   "metadata": {},
   "outputs": [],
   "source": [
    "def read_input(filename, split_lines = True, convert_to_int = True):\n",
    "    f = open(filename)\n",
    "    raw = f.read()[:-1]\n",
    "    f.close()\n",
    "    data = raw\n",
    "    if split_lines:\n",
    "        data = data.split('\\n')\n",
    "    if convert_to_int:\n",
    "        data = [int(item) for item in data]\n",
    "    return data"
   ]
  },
  {
   "cell_type": "code",
   "execution_count": 27,
   "metadata": {},
   "outputs": [],
   "source": [
    "data, sample_data = read_input('input.txt', convert_to_int=False), read_input('sample.txt', convert_to_int=False)"
   ]
  },
  {
   "cell_type": "code",
   "execution_count": 38,
   "metadata": {},
   "outputs": [],
   "source": [
    "class Submarine:\n",
    "    def __init__(self, commands):\n",
    "        self.x = 0\n",
    "        self.depth = 0\n",
    "        self.course = commands\n",
    "        \n",
    "    def execute_command(self, command):\n",
    "        action, val = command.split(' ')\n",
    "        if action == 'forward':\n",
    "            self.x += int(val)\n",
    "        elif action == 'up':\n",
    "            self.depth -= int(val)\n",
    "        elif action == 'down':\n",
    "            self.depth += int(val)\n",
    "    \n",
    "    def dive(self):\n",
    "        for command in self.course:\n",
    "            self.execute_command(command)\n",
    "    \n",
    "    def answer(self):\n",
    "        return self.x * self.depth\n",
    "    \n",
    "    def solve(self):\n",
    "        self.dive()\n",
    "        return self.answer()"
   ]
  },
  {
   "cell_type": "code",
   "execution_count": 40,
   "metadata": {},
   "outputs": [
    {
     "data": {
      "text/plain": [
       "True"
      ]
     },
     "execution_count": 40,
     "metadata": {},
     "output_type": "execute_result"
    }
   ],
   "source": [
    "Submarine(sample_data).solve() == 150"
   ]
  },
  {
   "cell_type": "code",
   "execution_count": 41,
   "metadata": {},
   "outputs": [
    {
     "data": {
      "text/plain": [
       "2117664"
      ]
     },
     "execution_count": 41,
     "metadata": {},
     "output_type": "execute_result"
    }
   ],
   "source": [
    "Submarine(data).solve()"
   ]
  },
  {
   "cell_type": "code",
   "execution_count": 42,
   "metadata": {},
   "outputs": [],
   "source": [
    "class ProperSubmarine(Submarine):\n",
    "    def __init__(self, commands):\n",
    "        self.x = 0\n",
    "        self.depth = 0\n",
    "        self.aim = 0\n",
    "        self.course = commands\n",
    "        \n",
    "    def execute_command(self, command):\n",
    "        action, val = command.split(' ')\n",
    "        if action == 'forward':\n",
    "            self.x += int(val)\n",
    "            self.depth += self.aim*int(val)\n",
    "        elif action == 'up':\n",
    "            self.aim -= int(val)\n",
    "        elif action == 'down':\n",
    "            self.aim += int(val)"
   ]
  },
  {
   "cell_type": "code",
   "execution_count": 43,
   "metadata": {},
   "outputs": [
    {
     "data": {
      "text/plain": [
       "True"
      ]
     },
     "execution_count": 43,
     "metadata": {},
     "output_type": "execute_result"
    }
   ],
   "source": [
    "ProperSubmarine(sample_data).solve() == 900"
   ]
  },
  {
   "cell_type": "code",
   "execution_count": 44,
   "metadata": {},
   "outputs": [
    {
     "data": {
      "text/plain": [
       "2073416724"
      ]
     },
     "execution_count": 44,
     "metadata": {},
     "output_type": "execute_result"
    }
   ],
   "source": [
    "ProperSubmarine(data).solve()"
   ]
  }
 ],
 "metadata": {
  "kernelspec": {
   "display_name": "Python 3",
   "language": "python",
   "name": "python3"
  },
  "language_info": {
   "codemirror_mode": {
    "name": "ipython",
    "version": 3
   },
   "file_extension": ".py",
   "mimetype": "text/x-python",
   "name": "python",
   "nbconvert_exporter": "python",
   "pygments_lexer": "ipython3",
   "version": "3.7.6"
  }
 },
 "nbformat": 4,
 "nbformat_minor": 4
}
