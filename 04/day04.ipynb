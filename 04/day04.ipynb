{
 "cells": [
  {
   "cell_type": "code",
   "execution_count": 28,
   "metadata": {},
   "outputs": [],
   "source": [
    "import numpy as np"
   ]
  },
  {
   "cell_type": "code",
   "execution_count": 1,
   "metadata": {},
   "outputs": [],
   "source": [
    "def read_input(filename, split_lines = True, convert_to_int = True):\n",
    "    f = open(filename)\n",
    "    raw = f.read()[:-1]\n",
    "    f.close()\n",
    "    data = raw\n",
    "    if split_lines:\n",
    "        data = data.split('\\n')\n",
    "    if convert_to_int:\n",
    "        data = [int(item) for item in data]\n",
    "    return data"
   ]
  },
  {
   "cell_type": "code",
   "execution_count": 3,
   "metadata": {},
   "outputs": [],
   "source": [
    "sample_data, data = read_input('sample.txt', False, False), read_input('input.txt', False, False)"
   ]
  },
  {
   "cell_type": "code",
   "execution_count": 256,
   "metadata": {},
   "outputs": [],
   "source": [
    "class BingoBoard:\n",
    "    def __init__(self, board_string, board_id=None):\n",
    "        self.cell_values = np.zeros((5,5))\n",
    "        for i, row in enumerate(board_string.split('\\n')):\n",
    "            self.cell_values[i] = row.split()\n",
    "        self.cells_drawn = np.zeros((5,5))\n",
    "        self.board_id = board_id\n",
    "        self.log = []\n",
    "    \n",
    "    def draw_number(self, number):\n",
    "        if number in self.cell_values:\n",
    "            self.cells_drawn[np.where(self.cell_values == number)] = 1\n",
    "        self.log.append(number)\n",
    "    \n",
    "    def check_bingo(self):\n",
    "        if sum([sum(row) == 5 for row in self.cells_drawn]) > 0:\n",
    "            return True\n",
    "        elif sum([sum(row) == 5 for row in self.cells_drawn.transpose()]) > 0:\n",
    "            return True\n",
    "        else:\n",
    "            return False\n",
    "    \n",
    "    def calc_winning_score(self):\n",
    "        unmarked_sum = 0\n",
    "        for i in range(5):\n",
    "            for j in range(5):\n",
    "                if self.cells_drawn[i,j] == 0:\n",
    "                    unmarked_sum += self.cell_values[i,j]\n",
    "        return unmarked_sum * self.log[-1]\n",
    "\n",
    "        \n",
    "class BingoGame:\n",
    "    def __init__(self, generated_order):\n",
    "        self.boards = []\n",
    "        self.draws, raw_boards = self.split_input(generated_order)\n",
    "        for i, board in enumerate(raw_boards):\n",
    "            self.boards.append(BingoBoard(board, i))\n",
    "        del raw_boards\n",
    "        self.winner_id = None\n",
    "        self.winning_order = []\n",
    "    \n",
    "    @staticmethod\n",
    "    def split_input(generated_order):\n",
    "        cut = generated_order.split('\\n\\n')\n",
    "        return cut[0].split(','), cut[1:]\n",
    "    \n",
    "    def play(self):\n",
    "        for number in self.draws:\n",
    "            for board in self.boards:\n",
    "                board.draw_number(int(number))\n",
    "                if board.check_bingo():\n",
    "                    self.winner_id = board.board_id\n",
    "                    break\n",
    "            if self.winner_id != None:\n",
    "                break\n",
    "        return self.boards[self.winner_id].calc_winning_score()\n",
    "    \n",
    "    def lose(self):\n",
    "        while len(self.winning_order) < len(self.boards):\n",
    "            number = self.draws.pop(0)\n",
    "            for board in self.boards:\n",
    "                if board.board_id in self.winning_order:\n",
    "                    continue\n",
    "                board.draw_number(int(number))\n",
    "                if board.check_bingo():\n",
    "                    self.winning_order.append(board.board_id)\n",
    "        return self.boards[self.winning_order[-1]].calc_winning_score()"
   ]
  },
  {
   "cell_type": "code",
   "execution_count": 257,
   "metadata": {},
   "outputs": [],
   "source": [
    "test1 = BingoGame(sample_data)"
   ]
  },
  {
   "cell_type": "code",
   "execution_count": 258,
   "metadata": {},
   "outputs": [
    {
     "data": {
      "text/plain": [
       "True"
      ]
     },
     "execution_count": 258,
     "metadata": {},
     "output_type": "execute_result"
    }
   ],
   "source": [
    "test1.play() == 4512"
   ]
  },
  {
   "cell_type": "code",
   "execution_count": 259,
   "metadata": {},
   "outputs": [
    {
     "name": "stdout",
     "output_type": "stream",
     "text": [
      "CPU times: user 144 ms, sys: 3.73 ms, total: 148 ms\n",
      "Wall time: 146 ms\n"
     ]
    },
    {
     "data": {
      "text/plain": [
       "23177.0"
      ]
     },
     "execution_count": 259,
     "metadata": {},
     "output_type": "execute_result"
    }
   ],
   "source": [
    "%%time\n",
    "BingoGame(data).play()"
   ]
  },
  {
   "cell_type": "code",
   "execution_count": 260,
   "metadata": {},
   "outputs": [],
   "source": [
    "test2 = BingoGame(sample_data)"
   ]
  },
  {
   "cell_type": "code",
   "execution_count": 261,
   "metadata": {},
   "outputs": [
    {
     "data": {
      "text/plain": [
       "True"
      ]
     },
     "execution_count": 261,
     "metadata": {},
     "output_type": "execute_result"
    }
   ],
   "source": [
    "test2.lose() == 1924"
   ]
  },
  {
   "cell_type": "code",
   "execution_count": 262,
   "metadata": {},
   "outputs": [
    {
     "name": "stdout",
     "output_type": "stream",
     "text": [
      "CPU times: user 424 ms, sys: 14 ms, total: 438 ms\n",
      "Wall time: 441 ms\n"
     ]
    },
    {
     "data": {
      "text/plain": [
       "6804.0"
      ]
     },
     "execution_count": 262,
     "metadata": {},
     "output_type": "execute_result"
    }
   ],
   "source": [
    "%%time\n",
    "BingoGame(data).lose()"
   ]
  },
  {
   "cell_type": "code",
   "execution_count": null,
   "metadata": {},
   "outputs": [],
   "source": []
  }
 ],
 "metadata": {
  "kernelspec": {
   "display_name": "Python 3",
   "language": "python",
   "name": "python3"
  },
  "language_info": {
   "codemirror_mode": {
    "name": "ipython",
    "version": 3
   },
   "file_extension": ".py",
   "mimetype": "text/x-python",
   "name": "python",
   "nbconvert_exporter": "python",
   "pygments_lexer": "ipython3",
   "version": "3.7.6"
  }
 },
 "nbformat": 4,
 "nbformat_minor": 4
}
