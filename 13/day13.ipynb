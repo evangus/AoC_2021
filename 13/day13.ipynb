{
 "cells": [
  {
   "cell_type": "code",
   "execution_count": 25,
   "metadata": {},
   "outputs": [],
   "source": [
    "import numpy as np"
   ]
  },
  {
   "cell_type": "code",
   "execution_count": 1,
   "metadata": {},
   "outputs": [],
   "source": [
    "def read_input(filename, split = False, convert_to_int = False, sep = '\\n'):\n",
    "    f = open(filename)\n",
    "    raw = f.read()[:-1]\n",
    "    f.close()\n",
    "    data = raw\n",
    "    if split:\n",
    "        data = data.split(sep)\n",
    "    if convert_to_int:\n",
    "        data = [int(item) for item in data]\n",
    "    return data"
   ]
  },
  {
   "cell_type": "code",
   "execution_count": 2,
   "metadata": {},
   "outputs": [],
   "source": [
    "sample_data, data = read_input('sample.txt'), read_input('input.txt')"
   ]
  },
  {
   "cell_type": "code",
   "execution_count": 129,
   "metadata": {},
   "outputs": [],
   "source": [
    "class TransparentPaper:\n",
    "    def __init__(self, data):\n",
    "        self.dots = data.split('\\n\\n')[0].split('\\n')\n",
    "        for i, dot in enumerate(self.dots):\n",
    "            self.dots[i] = [int(s) for s in dot.split(',')]\n",
    "            \n",
    "        self.pattern = np.zeros((max([s[-1] for s in self.dots])+1, max([s[0] for s in self.dots])+1))\n",
    "        for dot in self.dots:\n",
    "            self.pattern[dot[-1],dot[0]] += 1\n",
    "        \n",
    "        self.instructions = data.split('\\n\\n')[-1].split('\\n')\n",
    "            \n",
    "    def __str__(self):\n",
    "        s = ''\n",
    "        for y in range(self.pattern.shape[0]):\n",
    "            for x in range(self.pattern.shape[1]):\n",
    "                if self.pattern[y,x] > 0:\n",
    "                    s += '#'\n",
    "                else:\n",
    "                    s += '.'\n",
    "            s += '\\n'\n",
    "        return s\n",
    "    \n",
    "    def fold(self, instruction):\n",
    "        axis = instruction.split('=')[0][-1]\n",
    "        coord = int(instruction.split('=')[-1])\n",
    "        if axis == 'x':\n",
    "            for y in range(self.pattern.shape[0]):\n",
    "                for x in range(coord + 1,self.pattern.shape[1]):\n",
    "                    self.pattern[y, coord*2-x] += self.pattern[y,x]\n",
    "            self.pattern = self.pattern[:,:coord]\n",
    "        elif axis == 'y':\n",
    "            for y in range(coord + 1,self.pattern.shape[0]):\n",
    "                for x in range(self.pattern.shape[1]):\n",
    "                    self.pattern[coord*2-y, x] += self.pattern[y,x]\n",
    "            self.pattern = self.pattern[:coord,:]\n",
    "    \n",
    "    def count_visible_dots(self):\n",
    "        return np.count_nonzero(self.pattern)\n",
    "    \n",
    "    def run_part1(self):\n",
    "        self.fold(self.instructions[0])\n",
    "        return self.count_visible_dots()\n",
    "    \n",
    "    def run_part2(self):\n",
    "        for instruction in self.instructions:\n",
    "            self.fold(instruction)\n",
    "        print(self)"
   ]
  },
  {
   "cell_type": "code",
   "execution_count": 127,
   "metadata": {},
   "outputs": [
    {
     "data": {
      "text/plain": [
       "True"
      ]
     },
     "execution_count": 127,
     "metadata": {},
     "output_type": "execute_result"
    }
   ],
   "source": [
    "TransparentPaper(sample_data).run_part1() == 17"
   ]
  },
  {
   "cell_type": "code",
   "execution_count": 128,
   "metadata": {},
   "outputs": [
    {
     "data": {
      "text/plain": [
       "729"
      ]
     },
     "execution_count": 128,
     "metadata": {},
     "output_type": "execute_result"
    }
   ],
   "source": [
    "TransparentPaper(data).run_part1()"
   ]
  },
  {
   "cell_type": "code",
   "execution_count": 130,
   "metadata": {},
   "outputs": [
    {
     "name": "stdout",
     "output_type": "stream",
     "text": [
      "###...##..####.#....###..#..#.####.###..\n",
      "#..#.#..#....#.#....#..#.#..#.#....#..#.\n",
      "#..#.#......#..#....###..####.###..#..#.\n",
      "###..#.##..#...#....#..#.#..#.#....###..\n",
      "#.#..#..#.#....#....#..#.#..#.#....#....\n",
      "#..#..###.####.####.###..#..#.#....#....\n",
      "\n",
      "CPU times: user 941 ms, sys: 3.04 ms, total: 944 ms\n",
      "Wall time: 944 ms\n"
     ]
    }
   ],
   "source": [
    "%%time\n",
    "TransparentPaper(data).run_part2()"
   ]
  }
 ],
 "metadata": {
  "kernelspec": {
   "display_name": "Python 3",
   "language": "python",
   "name": "python3"
  },
  "language_info": {
   "codemirror_mode": {
    "name": "ipython",
    "version": 3
   },
   "file_extension": ".py",
   "mimetype": "text/x-python",
   "name": "python",
   "nbconvert_exporter": "python",
   "pygments_lexer": "ipython3",
   "version": "3.7.6"
  }
 },
 "nbformat": 4,
 "nbformat_minor": 4
}
