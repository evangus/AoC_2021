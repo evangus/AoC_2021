{
 "cells": [
  {
   "cell_type": "code",
   "execution_count": 3,
   "metadata": {},
   "outputs": [],
   "source": [
    "import numpy as np\n",
    "from IPython.display import clear_output"
   ]
  },
  {
   "cell_type": "code",
   "execution_count": 1,
   "metadata": {},
   "outputs": [],
   "source": [
    "def read_input(filename, split = False, convert_to_int = False, sep = '\\n'):\n",
    "    f = open(filename)\n",
    "    raw = f.read()[:-1]\n",
    "    f.close()\n",
    "    data = raw\n",
    "    if split:\n",
    "        data = data.split(sep)\n",
    "    if convert_to_int:\n",
    "        data = [int(item) for item in data]\n",
    "    return data"
   ]
  },
  {
   "cell_type": "code",
   "execution_count": 2,
   "metadata": {},
   "outputs": [],
   "source": [
    "sample_data, data = read_input('sample.txt',True), read_input('input.txt',True)"
   ]
  },
  {
   "cell_type": "code",
   "execution_count": 72,
   "metadata": {},
   "outputs": [],
   "source": [
    "class DumboOctopusesCavern:\n",
    "    def __init__(self,data):\n",
    "        self.map = np.zeros([len(data[0])+2, len(data)+2])\n",
    "        for x in range(1,len(data[0])+1):\n",
    "            for y in range(1,len(data)+1):\n",
    "                self.map[y,x] = int(data[y-1][x-1])\n",
    "        self.flashes = 0\n",
    "        \n",
    "    def take_step(self):\n",
    "        flashed = []\n",
    "        \n",
    "        #all energy +1\n",
    "        self.map += np.ones(self.map.shape)\n",
    "        \n",
    "        #>9 flashes and +1s all adjacent — repeat and repeat\n",
    "        flag = True\n",
    "        while flag:\n",
    "            flag = False\n",
    "            for x in range(1,self.map.shape[1]-1):\n",
    "                for y in range(1,self.map.shape[0]-1):\n",
    "                    if (self.map[y,x] > 9) & ([y,x] not in flashed):\n",
    "                        flashed.append([y,x])\n",
    "                        for dx in [-1,0,1]:\n",
    "                            for dy in [-1,0,1]:\n",
    "                                self.map[y+dy,x+dx] += 1\n",
    "                        flag = True\n",
    "            \n",
    "        #all flashed change to 0\n",
    "        for dot in flashed:\n",
    "            self.map[dot[0],dot[1]] = 0\n",
    "        \n",
    "        return len(flashed)\n",
    "    \n",
    "    def run(self, steps):\n",
    "        self.flashes = 0\n",
    "        for _ in range(steps):\n",
    "            self.flashes += self.take_step()\n",
    "        return self.flashes\n",
    "    \n",
    "    def find_simultaneous(self):\n",
    "        flag = False\n",
    "        i = 0\n",
    "        while not flag:\n",
    "            i += 1\n",
    "            clear_output(wait=True)\n",
    "            print(f'Took {i} steps')\n",
    "            self.take_step()\n",
    "            flag = not np.any(self.map[1:11,1:11])\n",
    "        return i"
   ]
  },
  {
   "cell_type": "code",
   "execution_count": 73,
   "metadata": {},
   "outputs": [
    {
     "name": "stdout",
     "output_type": "stream",
     "text": [
      "True\n",
      "True\n"
     ]
    }
   ],
   "source": [
    "print(DumboOctopusesCavern(sample_data).run(10) == 204)\n",
    "print(DumboOctopusesCavern(sample_data).run(100) == 1656)"
   ]
  },
  {
   "cell_type": "code",
   "execution_count": 74,
   "metadata": {},
   "outputs": [
    {
     "data": {
      "text/plain": [
       "1613"
      ]
     },
     "execution_count": 74,
     "metadata": {},
     "output_type": "execute_result"
    }
   ],
   "source": [
    "DumboOctopusesCavern(data).run(100)"
   ]
  },
  {
   "cell_type": "code",
   "execution_count": 76,
   "metadata": {},
   "outputs": [
    {
     "name": "stdout",
     "output_type": "stream",
     "text": [
      "Took 195 steps\n"
     ]
    },
    {
     "data": {
      "text/plain": [
       "True"
      ]
     },
     "execution_count": 76,
     "metadata": {},
     "output_type": "execute_result"
    }
   ],
   "source": [
    "DumboOctopusesCavern(sample_data).find_simultaneous() == 195"
   ]
  },
  {
   "cell_type": "code",
   "execution_count": 75,
   "metadata": {},
   "outputs": [
    {
     "name": "stdout",
     "output_type": "stream",
     "text": [
      "Took 510 steps\n"
     ]
    },
    {
     "data": {
      "text/plain": [
       "510"
      ]
     },
     "execution_count": 75,
     "metadata": {},
     "output_type": "execute_result"
    }
   ],
   "source": [
    "DumboOctopusesCavern(data).find_simultaneous()"
   ]
  }
 ],
 "metadata": {
  "kernelspec": {
   "display_name": "Python 3",
   "language": "python",
   "name": "python3"
  },
  "language_info": {
   "codemirror_mode": {
    "name": "ipython",
    "version": 3
   },
   "file_extension": ".py",
   "mimetype": "text/x-python",
   "name": "python",
   "nbconvert_exporter": "python",
   "pygments_lexer": "ipython3",
   "version": "3.7.6"
  }
 },
 "nbformat": 4,
 "nbformat_minor": 4
}
