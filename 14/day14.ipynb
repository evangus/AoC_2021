{
 "cells": [
  {
   "cell_type": "code",
   "execution_count": 1,
   "metadata": {},
   "outputs": [],
   "source": [
    "def read_input(filename, split = False, convert_to_int = False, sep = '\\n'):\n",
    "    f = open(filename)\n",
    "    raw = f.read()[:-1]\n",
    "    f.close()\n",
    "    data = raw\n",
    "    if split:\n",
    "        data = data.split(sep)\n",
    "    if convert_to_int:\n",
    "        data = [int(item) for item in data]\n",
    "    return data"
   ]
  },
  {
   "cell_type": "code",
   "execution_count": 2,
   "metadata": {},
   "outputs": [],
   "source": [
    "sample_data, data = read_input('sample.txt'), read_input('input.txt')"
   ]
  },
  {
   "cell_type": "code",
   "execution_count": 201,
   "metadata": {},
   "outputs": [],
   "source": [
    "class PolymerizationMachine:\n",
    "    def __init__(self, data):\n",
    "        self.template = data.split('\\n\\n')[0]\n",
    "        self.insertion_rules = {}\n",
    "        for rule in data.split('\\n\\n')[1].split('\\n'):\n",
    "            self.insertion_rules[rule.split(' -> ')[0]] = rule.split(' -> ')[1]\n",
    "        self.formula = self.template\n",
    "        \n",
    "        self.pairs_counter = {}\n",
    "        for key in self.insertion_rules:\n",
    "            self.pairs_counter[key] = 0\n",
    "        for i in range(1,len(self.template)):\n",
    "            self.pairs_counter[self.template[i-1:i+1]] += 1\n",
    "            \n",
    "        self.element_freqs = {}\n",
    "        for s in set(''.join(self.pairs_counter.keys())):\n",
    "            self.element_freqs[s] = 0\n",
    "        for s in self.template:\n",
    "            self.element_freqs[s] += 1\n",
    "        \n",
    "    def take_step(self):\n",
    "        new_formula = ''\n",
    "        for i in range(1,len(self.formula)):\n",
    "            if self.formula[i-1:i+1] in self.insertion_rules:\n",
    "                new_formula += self.formula[i-1] + self.insertion_rules[self.formula[i-1:i+1]]\n",
    "        new_formula += self.formula[-1]\n",
    "        self.formula = new_formula\n",
    "    \n",
    "    def run(self, n):\n",
    "        for i in range(n):\n",
    "            self.take_step()\n",
    "        frequencies = []\n",
    "        for s in set(self.formula):\n",
    "            frequencies.append(self.formula.count(s))\n",
    "        return max(frequencies) - min(frequencies)\n",
    "    \n",
    "    def take_smart_step(self):\n",
    "        add = {}\n",
    "        for key in self.pairs_counter:\n",
    "            if self.pairs_counter[key] > 0:\n",
    "                self.element_freqs[self.insertion_rules[key]] += self.pairs_counter[key]\n",
    "                if key[0]+self.insertion_rules[key] in add:\n",
    "                    add[key[0]+self.insertion_rules[key]] += self.pairs_counter[key]\n",
    "                else:\n",
    "                    add[key[0]+self.insertion_rules[key]] = self.pairs_counter[key]\n",
    "                if self.insertion_rules[key]+key[1] in add:\n",
    "                    add[self.insertion_rules[key]+key[1]] += self.pairs_counter[key]\n",
    "                else:\n",
    "                    add[self.insertion_rules[key]+key[1]] = self.pairs_counter[key]\n",
    "                if key in add:\n",
    "                    add[key] -= self.pairs_counter[key]\n",
    "                else:\n",
    "                    add[key] = -1*self.pairs_counter[key]\n",
    "        for key in add:\n",
    "            self.pairs_counter[key] += add[key]\n",
    "        \n",
    "    def smart_run(self, n):\n",
    "        for i in range(n):\n",
    "            self.take_smart_step()\n",
    "        return max(self.element_freqs.values())-min(self.element_freqs.values())"
   ]
  },
  {
   "cell_type": "code",
   "execution_count": 183,
   "metadata": {
    "scrolled": true
   },
   "outputs": [
    {
     "data": {
      "text/plain": [
       "True"
      ]
     },
     "execution_count": 183,
     "metadata": {},
     "output_type": "execute_result"
    }
   ],
   "source": [
    "PolymerizationMachine(sample_data).run(10) == 1588"
   ]
  },
  {
   "cell_type": "code",
   "execution_count": 209,
   "metadata": {},
   "outputs": [
    {
     "name": "stdout",
     "output_type": "stream",
     "text": [
      "CPU times: user 22 ms, sys: 1.98 ms, total: 24 ms\n",
      "Wall time: 22.4 ms\n"
     ]
    },
    {
     "data": {
      "text/plain": [
       "3306"
      ]
     },
     "execution_count": 209,
     "metadata": {},
     "output_type": "execute_result"
    }
   ],
   "source": [
    "%%time\n",
    "PolymerizationMachine(data).run(10)"
   ]
  },
  {
   "cell_type": "code",
   "execution_count": 211,
   "metadata": {},
   "outputs": [
    {
     "name": "stdout",
     "output_type": "stream",
     "text": [
      "CPU times: user 1.7 ms, sys: 2 µs, total: 1.7 ms\n",
      "Wall time: 1.71 ms\n"
     ]
    },
    {
     "data": {
      "text/plain": [
       "3306"
      ]
     },
     "execution_count": 211,
     "metadata": {},
     "output_type": "execute_result"
    }
   ],
   "source": [
    "%%time\n",
    "PolymerizationMachine(data).smart_run(10)"
   ]
  },
  {
   "cell_type": "code",
   "execution_count": 207,
   "metadata": {},
   "outputs": [
    {
     "name": "stdout",
     "output_type": "stream",
     "text": [
      "CPU times: user 1.44 ms, sys: 3 µs, total: 1.44 ms\n",
      "Wall time: 1.44 ms\n"
     ]
    },
    {
     "data": {
      "text/plain": [
       "True"
      ]
     },
     "execution_count": 207,
     "metadata": {},
     "output_type": "execute_result"
    }
   ],
   "source": [
    "%%time\n",
    "PolymerizationMachine(sample_data).smart_run(40) == 2188189693529"
   ]
  },
  {
   "cell_type": "code",
   "execution_count": 210,
   "metadata": {},
   "outputs": [
    {
     "name": "stdout",
     "output_type": "stream",
     "text": [
      "CPU times: user 7.25 ms, sys: 471 µs, total: 7.72 ms\n",
      "Wall time: 7.3 ms\n"
     ]
    },
    {
     "data": {
      "text/plain": [
       "3760312702877"
      ]
     },
     "execution_count": 210,
     "metadata": {},
     "output_type": "execute_result"
    }
   ],
   "source": [
    "%%time\n",
    "PolymerizationMachine(data).smart_run(40)"
   ]
  }
 ],
 "metadata": {
  "kernelspec": {
   "display_name": "Python 3",
   "language": "python",
   "name": "python3"
  },
  "language_info": {
   "codemirror_mode": {
    "name": "ipython",
    "version": 3
   },
   "file_extension": ".py",
   "mimetype": "text/x-python",
   "name": "python",
   "nbconvert_exporter": "python",
   "pygments_lexer": "ipython3",
   "version": "3.7.6"
  }
 },
 "nbformat": 4,
 "nbformat_minor": 4
}
