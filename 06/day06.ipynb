{
 "cells": [
  {
   "cell_type": "code",
   "execution_count": 7,
   "metadata": {},
   "outputs": [],
   "source": [
    "def read_input(filename, split = False, convert_to_int = False, sep = '\\n'):\n",
    "    f = open(filename)\n",
    "    raw = f.read()[:-1]\n",
    "    f.close()\n",
    "    data = raw\n",
    "    if split:\n",
    "        data = data.split(sep)\n",
    "    if convert_to_int:\n",
    "        data = [int(item) for item in data]\n",
    "    return data"
   ]
  },
  {
   "cell_type": "code",
   "execution_count": 8,
   "metadata": {},
   "outputs": [],
   "source": [
    "sample_data, data = read_input('sample.txt',True,True,','), read_input('input.txt',True,True,',')"
   ]
  },
  {
   "cell_type": "code",
   "execution_count": 9,
   "metadata": {},
   "outputs": [],
   "source": [
    "class Lanternfish:\n",
    "    def __init__(self,n):\n",
    "        self.timer = n\n",
    "    \n",
    "    def __repr__(self):\n",
    "        return 'f'+str(self.timer)\n",
    "        \n",
    "    def pass_day(self):\n",
    "        if self.timer == 0:\n",
    "            self.timer = 6\n",
    "            return Lanternfish(8)\n",
    "        else:\n",
    "            self.timer -= 1\n",
    "\n",
    "class LanternfishSchool:\n",
    "    def __init__(self, data):\n",
    "        self.school = [Lanternfish(fish) for fish in data]\n",
    "    \n",
    "    def simulate(self, n):\n",
    "        for _ in range(n):\n",
    "            new_fish = []\n",
    "            for fish in self.school:\n",
    "                new = fish.pass_day()\n",
    "                if new:\n",
    "                    new_fish.append(new)\n",
    "            self.school += new_fish\n",
    "\n",
    "    def how_many(self):\n",
    "        return len(self.school)\n",
    "    \n",
    "    def run(self, n):\n",
    "        self.simulate(n)\n",
    "        return self.how_many()"
   ]
  },
  {
   "cell_type": "code",
   "execution_count": 76,
   "metadata": {},
   "outputs": [
    {
     "name": "stdout",
     "output_type": "stream",
     "text": [
      "CPU times: user 147 µs, sys: 1 µs, total: 148 µs\n",
      "Wall time: 152 µs\n"
     ]
    },
    {
     "data": {
      "text/plain": [
       "True"
      ]
     },
     "execution_count": 76,
     "metadata": {},
     "output_type": "execute_result"
    }
   ],
   "source": [
    "%%time\n",
    "LanternfishSchool(sample_data).run(18) == 26"
   ]
  },
  {
   "cell_type": "code",
   "execution_count": 77,
   "metadata": {},
   "outputs": [
    {
     "name": "stdout",
     "output_type": "stream",
     "text": [
      "CPU times: user 29.5 ms, sys: 1.6 ms, total: 31.1 ms\n",
      "Wall time: 30.2 ms\n"
     ]
    },
    {
     "data": {
      "text/plain": [
       "True"
      ]
     },
     "execution_count": 77,
     "metadata": {},
     "output_type": "execute_result"
    }
   ],
   "source": [
    "%%time\n",
    "LanternfishSchool(sample_data).run(80) == 5934"
   ]
  },
  {
   "cell_type": "code",
   "execution_count": 12,
   "metadata": {},
   "outputs": [
    {
     "name": "stdout",
     "output_type": "stream",
     "text": [
      "CPU times: user 1.86 s, sys: 35.5 ms, total: 1.89 s\n",
      "Wall time: 1.9 s\n"
     ]
    },
    {
     "data": {
      "text/plain": [
       "374927"
      ]
     },
     "execution_count": 12,
     "metadata": {},
     "output_type": "execute_result"
    }
   ],
   "source": [
    "%%time\n",
    "LanternfishSchool(data).run(80)"
   ]
  },
  {
   "cell_type": "code",
   "execution_count": 73,
   "metadata": {},
   "outputs": [],
   "source": [
    "class MassiveLanternfishSchool:\n",
    "    def __init__(self, data):\n",
    "        self.school = {i:0 for i in range(9)}\n",
    "        for i in data:\n",
    "            self.school[i] += 1\n",
    "    \n",
    "    def __repr__(self):\n",
    "        return str(self.school)\n",
    "    \n",
    "    def pass_day(self):\n",
    "        new_dict = {i:0 for i in range(9)}\n",
    "        for i in range(8,0,-1):\n",
    "            new_dict[i-1] = self.school[i]\n",
    "        new_dict[8] = self.school[0]\n",
    "        new_dict[6] += self.school[0]\n",
    "        self.school = new_dict\n",
    "        \n",
    "    def how_many(self):\n",
    "        return sum(self.school.values())\n",
    "        \n",
    "    def run(self,n):\n",
    "        for _ in range(n):\n",
    "            self.pass_day()\n",
    "        return self.how_many() "
   ]
  },
  {
   "cell_type": "code",
   "execution_count": 78,
   "metadata": {},
   "outputs": [
    {
     "name": "stdout",
     "output_type": "stream",
     "text": [
      "CPU times: user 67 µs, sys: 0 ns, total: 67 µs\n",
      "Wall time: 71.3 µs\n"
     ]
    },
    {
     "data": {
      "text/plain": [
       "True"
      ]
     },
     "execution_count": 78,
     "metadata": {},
     "output_type": "execute_result"
    }
   ],
   "source": [
    "%%time\n",
    "MassiveLanternfishSchool(sample_data).run(18) == 26"
   ]
  },
  {
   "cell_type": "code",
   "execution_count": 79,
   "metadata": {},
   "outputs": [
    {
     "name": "stdout",
     "output_type": "stream",
     "text": [
      "CPU times: user 270 µs, sys: 1 µs, total: 271 µs\n",
      "Wall time: 275 µs\n"
     ]
    },
    {
     "data": {
      "text/plain": [
       "True"
      ]
     },
     "execution_count": 79,
     "metadata": {},
     "output_type": "execute_result"
    }
   ],
   "source": [
    "%%time\n",
    "MassiveLanternfishSchool(sample_data).run(80) == 5934"
   ]
  },
  {
   "cell_type": "code",
   "execution_count": 81,
   "metadata": {},
   "outputs": [
    {
     "name": "stdout",
     "output_type": "stream",
     "text": [
      "CPU times: user 830 µs, sys: 0 ns, total: 830 µs\n",
      "Wall time: 835 µs\n"
     ]
    },
    {
     "data": {
      "text/plain": [
       "1687617803407"
      ]
     },
     "execution_count": 81,
     "metadata": {},
     "output_type": "execute_result"
    }
   ],
   "source": [
    "%%time\n",
    "MassiveLanternfishSchool(data).run(256)"
   ]
  }
 ],
 "metadata": {
  "kernelspec": {
   "display_name": "Python 3",
   "language": "python",
   "name": "python3"
  },
  "language_info": {
   "codemirror_mode": {
    "name": "ipython",
    "version": 3
   },
   "file_extension": ".py",
   "mimetype": "text/x-python",
   "name": "python",
   "nbconvert_exporter": "python",
   "pygments_lexer": "ipython3",
   "version": "3.7.6"
  }
 },
 "nbformat": 4,
 "nbformat_minor": 4
}
