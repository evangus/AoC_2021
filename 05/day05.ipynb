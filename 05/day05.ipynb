{
 "cells": [
  {
   "cell_type": "code",
   "execution_count": 1,
   "metadata": {},
   "outputs": [],
   "source": [
    "def read_input(filename, split_lines = True, convert_to_int = True):\n",
    "    f = open(filename)\n",
    "    raw = f.read()[:-1]\n",
    "    f.close()\n",
    "    data = raw\n",
    "    if split_lines:\n",
    "        data = data.split('\\n')\n",
    "    if convert_to_int:\n",
    "        data = [int(item) for item in data]\n",
    "    return data"
   ]
  },
  {
   "cell_type": "code",
   "execution_count": 2,
   "metadata": {},
   "outputs": [],
   "source": [
    "sample_data, data = read_input('sample.txt', True, False), read_input('input.txt', True, False)"
   ]
  },
  {
   "cell_type": "code",
   "execution_count": 148,
   "metadata": {},
   "outputs": [],
   "source": [
    "class VentsField:\n",
    "    def __init__(self, data):\n",
    "        self.lines = [Line(line) for line in data]\n",
    "        self.max_x = 0\n",
    "        self.max_y = 0\n",
    "        for line in self.lines:\n",
    "            if max(line.x1, line.x2) > self.max_x:\n",
    "                self.max_x = max(line.x1, line.x2)\n",
    "            if max(line.y1, line.y2) > self.max_y:\n",
    "                self.max_y = max(line.y1, line.y2)\n",
    "        self.diagram = {i:[0]*(self.max_x+1) for i in range(self.max_y+1)}\n",
    "\n",
    "    def generate_diagram(self):\n",
    "        for line in self.lines:\n",
    "            if line.is_vertical():\n",
    "                step = 1*(line.y1<line.y2) - 1*(line.y1>line.y2)\n",
    "                for y in range(line.y1,line.y2+step,step):\n",
    "                    self.diagram[y][line.x1] += 1\n",
    "            if line.is_horizontal():\n",
    "                step = 1*(line.x1<line.x2) - 1*(line.x1>line.x2)\n",
    "                for x in range(line.x1,line.x2+step,step):\n",
    "                    self.diagram[line.y1][x] += 1\n",
    "    \n",
    "    def calc_overlaps_above_n(self, n):\n",
    "        sum = 0\n",
    "        for i in range(len(self.diagram)):\n",
    "            for j in range(len(self.diagram[0])):\n",
    "                if self.diagram[i][j] >= n:\n",
    "                    sum += 1\n",
    "        return sum\n",
    "    \n",
    "    def run(self,n):\n",
    "        self.generate_diagram()\n",
    "        return self.calc_overlaps_above_n(n)\n",
    "    \n",
    "class Line:\n",
    "    def __init__(self, line):\n",
    "        [self.x1,self.y1], [self.x2,self.y2] = [list(map(int, dot.split(','))) for dot in line.split(' -> ')]\n",
    "    \n",
    "    def is_horizontal(self):\n",
    "        return self.y1 == self.y2\n",
    "    \n",
    "    def is_vertical(self):\n",
    "        return self.x1 == self.x2"
   ]
  },
  {
   "cell_type": "code",
   "execution_count": 144,
   "metadata": {},
   "outputs": [
    {
     "data": {
      "text/plain": [
       "True"
      ]
     },
     "execution_count": 144,
     "metadata": {},
     "output_type": "execute_result"
    }
   ],
   "source": [
    "test1 = VentsField(sample_data)\n",
    "test1.run(2) == 5"
   ]
  },
  {
   "cell_type": "code",
   "execution_count": 162,
   "metadata": {},
   "outputs": [
    {
     "data": {
      "text/plain": [
       "7297"
      ]
     },
     "execution_count": 162,
     "metadata": {},
     "output_type": "execute_result"
    }
   ],
   "source": [
    "VentsField(data).run(2)"
   ]
  },
  {
   "cell_type": "code",
   "execution_count": 156,
   "metadata": {},
   "outputs": [],
   "source": [
    "class FullVentsField(VentsField):\n",
    "    def generate_diagram(self):\n",
    "        for line in self.lines:\n",
    "            if line.is_vertical():\n",
    "                step = 1*(line.y1<line.y2) - 1*(line.y1>line.y2)\n",
    "                for y in range(line.y1,line.y2+step,step):\n",
    "                    self.diagram[y][line.x1] += 1\n",
    "            elif line.is_horizontal():\n",
    "                step = 1*(line.x1<line.x2) - 1*(line.x1>line.x2)\n",
    "                for x in range(line.x1,line.x2+step,step):\n",
    "                    self.diagram[line.y1][x] += 1\n",
    "            else:\n",
    "                step_x = 1*(line.x1<line.x2) - 1*(line.x1>line.x2)\n",
    "                step_y = 1*(line.y1<line.y2) - 1*(line.y1>line.y2)\n",
    "                y = line.y1\n",
    "                for x in range(line.x1,line.x2+step_x,step_x):\n",
    "                    self.diagram[y][x] += 1\n",
    "                    y += step_y"
   ]
  },
  {
   "cell_type": "code",
   "execution_count": 160,
   "metadata": {},
   "outputs": [
    {
     "data": {
      "text/plain": [
       "True"
      ]
     },
     "execution_count": 160,
     "metadata": {},
     "output_type": "execute_result"
    }
   ],
   "source": [
    "test2 = FullVentsField(sample_data)\n",
    "test2.run(2) == 12"
   ]
  },
  {
   "cell_type": "code",
   "execution_count": 161,
   "metadata": {},
   "outputs": [
    {
     "name": "stdout",
     "output_type": "stream",
     "text": [
      "CPU times: user 210 ms, sys: 5.34 ms, total: 215 ms\n",
      "Wall time: 214 ms\n"
     ]
    },
    {
     "data": {
      "text/plain": [
       "21038"
      ]
     },
     "execution_count": 161,
     "metadata": {},
     "output_type": "execute_result"
    }
   ],
   "source": [
    "%%time\n",
    "FullVentsField(data).run(2)"
   ]
  }
 ],
 "metadata": {
  "kernelspec": {
   "display_name": "Python 3",
   "language": "python",
   "name": "python3"
  },
  "language_info": {
   "codemirror_mode": {
    "name": "ipython",
    "version": 3
   },
   "file_extension": ".py",
   "mimetype": "text/x-python",
   "name": "python",
   "nbconvert_exporter": "python",
   "pygments_lexer": "ipython3",
   "version": "3.7.6"
  }
 },
 "nbformat": 4,
 "nbformat_minor": 4
}
