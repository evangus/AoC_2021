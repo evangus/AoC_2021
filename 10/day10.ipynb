{
 "cells": [
  {
   "cell_type": "code",
   "execution_count": 1,
   "metadata": {},
   "outputs": [],
   "source": [
    "def read_input(filename, split = False, convert_to_int = False, sep = '\\n'):\n",
    "    f = open(filename)\n",
    "    raw = f.read()[:-1]\n",
    "    f.close()\n",
    "    data = raw\n",
    "    if split:\n",
    "        data = data.split(sep)\n",
    "    if convert_to_int:\n",
    "        data = [int(item) for item in data]\n",
    "    return data"
   ]
  },
  {
   "cell_type": "code",
   "execution_count": 2,
   "metadata": {},
   "outputs": [],
   "source": [
    "sample_data, data = read_input('sample.txt',True), read_input('input.txt',True)"
   ]
  },
  {
   "cell_type": "code",
   "execution_count": 29,
   "metadata": {},
   "outputs": [],
   "source": [
    "class NavSubsystem:\n",
    "    def __init__(self, data):\n",
    "        self.lines = data\n",
    "        self.matches = {'(' : ')',\n",
    "                        '[' : ']',\n",
    "                        '{' : '}',\n",
    "                        '<' : '>'}\n",
    "        self.syntax_error_score = 0\n",
    "        self.illegal_scores = {')':3,\n",
    "                               ']': 57,\n",
    "                               '}': 1197,\n",
    "                               '>': 25137}\n",
    "        self.completion_score = 0\n",
    "        self.completion_values = {')': 1,\n",
    "                                  ']': 2,\n",
    "                                  '}': 3,\n",
    "                                  '>': 4}\n",
    "        self.completion_scores = []\n",
    "\n",
    "    def check_line(self, line):\n",
    "        opened = ''\n",
    "        illegal_char = None\n",
    "        ans = ('incomplete', 0)\n",
    "        for s in line:\n",
    "            if s in self.matches:\n",
    "                opened += s\n",
    "            elif self.matches[opened[-1]] == s:\n",
    "                opened = opened[:-1]\n",
    "            else:\n",
    "                illegal_char = s\n",
    "                break\n",
    "        if illegal_char:\n",
    "            ans = ('corrupted', self.illegal_scores[illegal_char])\n",
    "        else:\n",
    "            completing_chunk = ''.join([self.matches[s] for s in opened[::-1]])\n",
    "            score = 0\n",
    "            for s in completing_chunk:\n",
    "                score = score * 5 + self.completion_values[s]\n",
    "            ans = ('incomplete', score)\n",
    "        return ans\n",
    "    \n",
    "    def calc_error_score(self):\n",
    "        self.syntax_error_score = 0\n",
    "        for line in self.lines:\n",
    "            if self.check_line(line)[0] == 'corrupted':\n",
    "                self.syntax_error_score += self.check_line(line)[1]\n",
    "        return self.syntax_error_score\n",
    "    \n",
    "    def calc_completion_score(self):\n",
    "        self.completion_score = 0\n",
    "        for line in self.lines:\n",
    "            if self.check_line(line)[0] == 'incomplete':\n",
    "                self.completion_scores.append(self.check_line(line)[1])\n",
    "        self.completion_score = sorted(self.completion_scores)[int(len(self.completion_scores)/2)]\n",
    "        return self.completion_score\n",
    "    \n",
    "    def run_part1(self):\n",
    "        return self.calc_error_score()\n",
    "    \n",
    "    def run_part2(self):\n",
    "        return self.calc_completion_score()"
   ]
  },
  {
   "cell_type": "code",
   "execution_count": 30,
   "metadata": {},
   "outputs": [
    {
     "data": {
      "text/plain": [
       "True"
      ]
     },
     "execution_count": 30,
     "metadata": {},
     "output_type": "execute_result"
    }
   ],
   "source": [
    "NavSubsystem(sample_data).run_part1() == 26397"
   ]
  },
  {
   "cell_type": "code",
   "execution_count": 31,
   "metadata": {},
   "outputs": [
    {
     "name": "stdout",
     "output_type": "stream",
     "text": [
      "CPU times: user 2.47 ms, sys: 0 ns, total: 2.47 ms\n",
      "Wall time: 2.47 ms\n"
     ]
    },
    {
     "data": {
      "text/plain": [
       "167379"
      ]
     },
     "execution_count": 31,
     "metadata": {},
     "output_type": "execute_result"
    }
   ],
   "source": [
    "%%time\n",
    "NavSubsystem(data).run_part1()"
   ]
  },
  {
   "cell_type": "code",
   "execution_count": 32,
   "metadata": {},
   "outputs": [
    {
     "data": {
      "text/plain": [
       "True"
      ]
     },
     "execution_count": 32,
     "metadata": {},
     "output_type": "execute_result"
    }
   ],
   "source": [
    "NavSubsystem(sample_data).run_part2() == 288957"
   ]
  },
  {
   "cell_type": "code",
   "execution_count": 33,
   "metadata": {},
   "outputs": [
    {
     "data": {
      "text/plain": [
       "2776842859"
      ]
     },
     "execution_count": 33,
     "metadata": {},
     "output_type": "execute_result"
    }
   ],
   "source": [
    "NavSubsystem(data).run_part2()"
   ]
  }
 ],
 "metadata": {
  "kernelspec": {
   "display_name": "Python 3",
   "language": "python",
   "name": "python3"
  },
  "language_info": {
   "codemirror_mode": {
    "name": "ipython",
    "version": 3
   },
   "file_extension": ".py",
   "mimetype": "text/x-python",
   "name": "python",
   "nbconvert_exporter": "python",
   "pygments_lexer": "ipython3",
   "version": "3.7.6"
  }
 },
 "nbformat": 4,
 "nbformat_minor": 4
}
