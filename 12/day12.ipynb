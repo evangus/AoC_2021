{
 "cells": [
  {
   "cell_type": "code",
   "execution_count": 1,
   "metadata": {},
   "outputs": [],
   "source": [
    "def read_input(filename, split = False, convert_to_int = False, sep = '\\n'):\n",
    "    f = open(filename)\n",
    "    raw = f.read()[:-1]\n",
    "    f.close()\n",
    "    data = raw\n",
    "    if split:\n",
    "        data = data.split(sep)\n",
    "    if convert_to_int:\n",
    "        data = [int(item) for item in data]\n",
    "    return data"
   ]
  },
  {
   "cell_type": "code",
   "execution_count": 160,
   "metadata": {},
   "outputs": [],
   "source": [
    "[sample_data, sample_data1, sample_data2, data] = [read_input('sample.txt',True), read_input('sample1.txt',True), \n",
    "                                                   read_input('sample2.txt',True), read_input('input.txt',True)]"
   ]
  },
  {
   "cell_type": "code",
   "execution_count": 297,
   "metadata": {},
   "outputs": [],
   "source": [
    "class CaveSystem:\n",
    "    def __init__(self, data):\n",
    "        self.ways_from = {}\n",
    "        for line in data:\n",
    "            a,b = line.split('-')\n",
    "            try:\n",
    "                self.ways_from[a].append(b)\n",
    "            except KeyError:\n",
    "                self.ways_from[a] = [b]\n",
    "            try:\n",
    "                self.ways_from[b].append(a)\n",
    "            except KeyError:\n",
    "                self.ways_from[b] = [a]\n",
    "        self.paths = ['start']\n",
    "    \n",
    "    def run(self):\n",
    "        all_added_paths = True\n",
    "        while all_added_paths:\n",
    "            all_added_paths = []\n",
    "            paths_to_remove = []\n",
    "            for working_path in self.paths:\n",
    "                added_paths = []\n",
    "                if working_path.split(',')[-1] not in ['end', 'X']:\n",
    "                    for next_cave in self.ways_from[working_path.split(',')[-1]]:\n",
    "                        if next_cave.islower() & (next_cave not in working_path):\n",
    "                            added_paths.append(working_path+','+next_cave)\n",
    "                        elif next_cave.isupper():\n",
    "                            added_paths.append(working_path+','+next_cave)\n",
    "                    if added_paths:\n",
    "                        all_added_paths += added_paths\n",
    "                        paths_to_remove.append(working_path)\n",
    "            self.paths += all_added_paths\n",
    "            for path in paths_to_remove:\n",
    "                self.paths.remove(path)\n",
    "            \n",
    "    def solve_part1(self):\n",
    "        self.run()\n",
    "        return len([c for c in self.paths if 'end' in c])\n",
    "\n",
    "    @staticmethod\n",
    "    def check_small_cave_conditions(cave, path):\n",
    "        ans1 = (cave != 'start')\n",
    "        visited = set()\n",
    "        multiple = []\n",
    "        for s in path.split(','):\n",
    "            if s not in visited:\n",
    "                visited.add(s)\n",
    "            else:\n",
    "                if s.islower():\n",
    "                    multiple.append(s)\n",
    "\n",
    "        ans2 = (len(multiple) == 0)\n",
    "        ans3 = (len(multiple) == 1) & (cave not in path)\n",
    "        return ans1 & (ans2 | ans3)\n",
    "        \n",
    "  \n",
    "    def run2(self):\n",
    "        all_added_paths = True\n",
    "        while all_added_paths:\n",
    "            all_added_paths = []\n",
    "            paths_to_remove = []\n",
    "            for working_path in self.paths:\n",
    "                added_paths = []\n",
    "                if working_path.split(',')[-1] not in ['end', 'X']:\n",
    "                    for next_cave in self.ways_from[working_path.split(',')[-1]]:\n",
    "                        if next_cave.islower() & self.check_small_cave_conditions(next_cave,working_path):\n",
    "                            added_paths.append(working_path+','+next_cave)\n",
    "                        elif next_cave.isupper():\n",
    "                            added_paths.append(working_path+','+next_cave)\n",
    "                    if added_paths:\n",
    "                        all_added_paths += added_paths\n",
    "                        paths_to_remove.append(working_path)\n",
    "            self.paths += all_added_paths\n",
    "            for path in paths_to_remove:\n",
    "                self.paths.remove(path)\n",
    "            \n",
    "    def solve_part2(self):\n",
    "        self.run2()\n",
    "        return len([c for c in self.paths if 'end' in c])"
   ]
  },
  {
   "cell_type": "code",
   "execution_count": 265,
   "metadata": {
    "scrolled": true
   },
   "outputs": [
    {
     "name": "stdout",
     "output_type": "stream",
     "text": [
      "True\n",
      "True\n",
      "True\n"
     ]
    }
   ],
   "source": [
    "print(CaveSystem(sample_data).solve_part1() == 10)\n",
    "print(CaveSystem(sample_data1).solve_part1() == 19)\n",
    "print(CaveSystem(sample_data2).solve_part1() == 226)"
   ]
  },
  {
   "cell_type": "code",
   "execution_count": 256,
   "metadata": {},
   "outputs": [
    {
     "name": "stdout",
     "output_type": "stream",
     "text": [
      "CPU times: user 554 ms, sys: 2.74 ms, total: 557 ms\n",
      "Wall time: 555 ms\n"
     ]
    },
    {
     "data": {
      "text/plain": [
       "4413"
      ]
     },
     "execution_count": 256,
     "metadata": {},
     "output_type": "execute_result"
    }
   ],
   "source": [
    "%%time\n",
    "CaveSystem(data).solve_part1()"
   ]
  },
  {
   "cell_type": "code",
   "execution_count": 299,
   "metadata": {},
   "outputs": [
    {
     "name": "stdout",
     "output_type": "stream",
     "text": [
      "True\n",
      "True\n",
      "True\n"
     ]
    }
   ],
   "source": [
    "print(CaveSystem(sample_data).solve_part2() == 36)\n",
    "print(CaveSystem(sample_data1).solve_part2() == 103)\n",
    "print(CaveSystem(sample_data2).solve_part2() == 3509)"
   ]
  },
  {
   "cell_type": "code",
   "execution_count": 300,
   "metadata": {},
   "outputs": [
    {
     "name": "stdout",
     "output_type": "stream",
     "text": [
      "CPU times: user 7min 45s, sys: 1.17 s, total: 7min 46s\n",
      "Wall time: 7min 50s\n"
     ]
    },
    {
     "data": {
      "text/plain": [
       "118803"
      ]
     },
     "execution_count": 300,
     "metadata": {},
     "output_type": "execute_result"
    }
   ],
   "source": [
    "%%time\n",
    "CaveSystem(data).solve_part2()"
   ]
  },
  {
   "cell_type": "markdown",
   "metadata": {},
   "source": [
    "this time is sooo not optimal 🥲"
   ]
  }
 ],
 "metadata": {
  "kernelspec": {
   "display_name": "Python 3",
   "language": "python",
   "name": "python3"
  },
  "language_info": {
   "codemirror_mode": {
    "name": "ipython",
    "version": 3
   },
   "file_extension": ".py",
   "mimetype": "text/x-python",
   "name": "python",
   "nbconvert_exporter": "python",
   "pygments_lexer": "ipython3",
   "version": "3.7.6"
  }
 },
 "nbformat": 4,
 "nbformat_minor": 4
}
