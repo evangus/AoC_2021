{
 "cells": [
  {
   "cell_type": "code",
   "execution_count": 1,
   "metadata": {},
   "outputs": [],
   "source": [
    "def read_input(filename, split = False, convert_to_int = False, sep = '\\n'):\n",
    "    f = open(filename)\n",
    "    raw = f.read()[:-1]\n",
    "    f.close()\n",
    "    data = raw\n",
    "    if split:\n",
    "        data = data.split(sep)\n",
    "    if convert_to_int:\n",
    "        data = [int(item) for item in data]\n",
    "    return data"
   ]
  },
  {
   "cell_type": "code",
   "execution_count": 2,
   "metadata": {},
   "outputs": [],
   "source": [
    "sample_data, data = read_input('sample.txt',True), read_input('input.txt',True)"
   ]
  },
  {
   "cell_type": "code",
   "execution_count": 16,
   "metadata": {},
   "outputs": [],
   "source": [
    "def count_simple_digits(data):\n",
    "    count = 0\n",
    "    for line in data:\n",
    "        for digit in line.split(' | ')[-1].split():\n",
    "            if len(digit) in [2, 3, 4, 7]:\n",
    "                count += 1\n",
    "    return count"
   ]
  },
  {
   "cell_type": "code",
   "execution_count": 17,
   "metadata": {},
   "outputs": [
    {
     "data": {
      "text/plain": [
       "True"
      ]
     },
     "execution_count": 17,
     "metadata": {},
     "output_type": "execute_result"
    }
   ],
   "source": [
    "count_simple_digits(sample_data) == 26"
   ]
  },
  {
   "cell_type": "code",
   "execution_count": 18,
   "metadata": {},
   "outputs": [
    {
     "data": {
      "text/plain": [
       "412"
      ]
     },
     "execution_count": 18,
     "metadata": {},
     "output_type": "execute_result"
    }
   ],
   "source": [
    "count_simple_digits(data)"
   ]
  },
  {
   "cell_type": "code",
   "execution_count": 114,
   "metadata": {},
   "outputs": [],
   "source": [
    "def str_diff(s1, s2):\n",
    "    ans = ''\n",
    "    for letter in s1:\n",
    "        if letter not in s2:\n",
    "            ans += letter\n",
    "    for letter in s2:\n",
    "        if letter not in s1:\n",
    "            ans += letter\n",
    "    return ans\n",
    "    \n",
    "def str_intersection(s1, s2):\n",
    "    out = ''\n",
    "    for c in s1:\n",
    "        if c in s2 and not c in out:\n",
    "            out += c\n",
    "    return out\n",
    "\n",
    "def str_equal(s1, s2):\n",
    "    return ''.join(sorted(s1)) == ''.join(sorted(s2))"
   ]
  },
  {
   "cell_type": "code",
   "execution_count": 229,
   "metadata": {},
   "outputs": [],
   "source": [
    "class LineDecoder:\n",
    "    def __init__(self, line):\n",
    "        self.digits = line.split(' | ')[0].split()\n",
    "        self.number = line.split(' | ')[-1].split()\n",
    "        self.wires_map = {let:None for let in 'abcdefg'}\n",
    "        self.number_codes = {i:None for i in range(10)}\n",
    "        self.output = None\n",
    "        self.codes_to_numbers = None\n",
    "    \n",
    "    def remap(self):\n",
    "        #find numbers 1,4,7,8\n",
    "        for code in self.digits:\n",
    "            if len(code) == 2:\n",
    "                self.number_codes[1] = code\n",
    "            elif len(code) == 3:\n",
    "                self.number_codes[7] = code\n",
    "            elif len(code) == 4:\n",
    "                self.number_codes[4] = code\n",
    "            elif len(code) == 7:\n",
    "                self.number_codes[8] = code\n",
    "        for i in [1,4,7,8]:\n",
    "            self.digits.remove(self.number_codes[i])\n",
    "        \n",
    "        #deduct wire A as 7-1\n",
    "        self.wires_map['a'] = str_diff(self.number_codes[7], self.number_codes[1])\n",
    "        \n",
    "        #F is diff b/w 8-1 and 6 (the only number that has diff == 1 with this formula)        \n",
    "        reverse3 = str_diff(self.number_codes[8],self.number_codes[1])\n",
    "        for code in self.digits:\n",
    "            if len(str_diff(code, reverse3)) == 1:\n",
    "                self.number_codes[6] = code\n",
    "                self.wires_map['f'] = str_diff(code, reverse3)\n",
    "                break\n",
    "        self.digits.remove(self.number_codes[6])\n",
    "        \n",
    "        #C is 8-6\n",
    "        self.wires_map['c'] = str_diff(self.number_codes[8], self.number_codes[6])\n",
    "        \n",
    "        #5 is the only remaining digit which has diff == 1 with 6\n",
    "        for code in self.digits:\n",
    "            if len(str_diff(code, self.number_codes[6])) == 1:\n",
    "                self.number_codes[5] = code\n",
    "                break\n",
    "        self.digits.remove(self.number_codes[5])\n",
    "        \n",
    "        #0 and 9 are have diff == 1 with 8, but only diff with 0 is present in 4\n",
    "        for code in self.digits:\n",
    "            if len(str_diff(code, self.number_codes[8])) == 1:\n",
    "                if str_diff(code, self.number_codes[8]) in self.number_codes[4]:\n",
    "                    self.number_codes[0] = code\n",
    "                else:\n",
    "                    self.number_codes[9] = code\n",
    "        for i in [0,9]:\n",
    "            self.digits.remove(self.number_codes[i])\n",
    "        \n",
    "        #3 has diff == 1 with 9\n",
    "        for code in self.digits:\n",
    "            if len(str_diff(code, self.number_codes[9])) == 1:\n",
    "                self.number_codes[3] = code\n",
    "                break\n",
    "        self.digits.remove(self.number_codes[3])\n",
    "        \n",
    "        #2 is the last number\n",
    "        self.number_codes[2] = self.digits[0]\n",
    "        self.digits.remove(self.number_codes[2])\n",
    "        \n",
    "        self.codes_to_numbers = {code:num for num,code in self.number_codes.items()}\n",
    "        \n",
    "    def decode_value(self, s):\n",
    "        for code in self.codes_to_numbers:\n",
    "            if str_equal(s, code):\n",
    "                return self.codes_to_numbers[code]\n",
    "        \n",
    "        \n",
    "    def decode_output(self):\n",
    "        self.output = ''\n",
    "        for digit in self.number:\n",
    "            self.output += str(self.decode_value(digit))\n",
    "        self.output = int(self.output)"
   ]
  },
  {
   "cell_type": "code",
   "execution_count": 230,
   "metadata": {},
   "outputs": [],
   "source": [
    "a = LineDecoder('acedgfb cdfbe gcdfa fbcad dab cefabd cdfgeb eafb cagedb ab | cdfeb fcadb cdfeb cdbaf')"
   ]
  },
  {
   "cell_type": "code",
   "execution_count": 231,
   "metadata": {},
   "outputs": [],
   "source": [
    "a.remap()"
   ]
  },
  {
   "cell_type": "code",
   "execution_count": 232,
   "metadata": {},
   "outputs": [],
   "source": [
    "a.decode_output()"
   ]
  },
  {
   "cell_type": "code",
   "execution_count": 234,
   "metadata": {},
   "outputs": [],
   "source": [
    "class SubmarineDisplays:\n",
    "    def __init__(self, data):\n",
    "        self.displays = [LineDecoder(line) for line in data]\n",
    "        self.sum = 0\n",
    "        \n",
    "    def run(self):\n",
    "        for display in self.displays:\n",
    "            display.remap()\n",
    "            display.decode_output()\n",
    "            self.sum += display.output\n",
    "        return self.sum"
   ]
  },
  {
   "cell_type": "code",
   "execution_count": 235,
   "metadata": {},
   "outputs": [
    {
     "name": "stdout",
     "output_type": "stream",
     "text": [
      "CPU times: user 730 µs, sys: 1 µs, total: 731 µs\n",
      "Wall time: 733 µs\n"
     ]
    },
    {
     "data": {
      "text/plain": [
       "True"
      ]
     },
     "execution_count": 235,
     "metadata": {},
     "output_type": "execute_result"
    }
   ],
   "source": [
    "%%time\n",
    "SubmarineDisplays(sample_data).run() == 61229"
   ]
  },
  {
   "cell_type": "code",
   "execution_count": 236,
   "metadata": {},
   "outputs": [
    {
     "name": "stdout",
     "output_type": "stream",
     "text": [
      "CPU times: user 16.3 ms, sys: 309 µs, total: 16.6 ms\n",
      "Wall time: 16.5 ms\n"
     ]
    },
    {
     "data": {
      "text/plain": [
       "978171"
      ]
     },
     "execution_count": 236,
     "metadata": {},
     "output_type": "execute_result"
    }
   ],
   "source": [
    "%%time\n",
    "SubmarineDisplays(data).run()"
   ]
  }
 ],
 "metadata": {
  "kernelspec": {
   "display_name": "Python 3",
   "language": "python",
   "name": "python3"
  },
  "language_info": {
   "codemirror_mode": {
    "name": "ipython",
    "version": 3
   },
   "file_extension": ".py",
   "mimetype": "text/x-python",
   "name": "python",
   "nbconvert_exporter": "python",
   "pygments_lexer": "ipython3",
   "version": "3.7.6"
  }
 },
 "nbformat": 4,
 "nbformat_minor": 4
}
