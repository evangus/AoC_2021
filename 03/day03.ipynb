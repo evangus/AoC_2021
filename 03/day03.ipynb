{
 "cells": [
  {
   "cell_type": "code",
   "execution_count": 1,
   "metadata": {},
   "outputs": [],
   "source": [
    "def read_input(filename, split_lines = True, convert_to_int = True):\n",
    "    f = open(filename)\n",
    "    raw = f.read()[:-1]\n",
    "    f.close()\n",
    "    data = raw\n",
    "    if split_lines:\n",
    "        data = data.split('\\n')\n",
    "    if convert_to_int:\n",
    "        data = [int(item) for item in data]\n",
    "    return data"
   ]
  },
  {
   "cell_type": "code",
   "execution_count": 2,
   "metadata": {},
   "outputs": [],
   "source": [
    "data, sample_data = read_input('input.txt', convert_to_int=False), read_input('sample.txt', convert_to_int=False)"
   ]
  },
  {
   "cell_type": "code",
   "execution_count": 78,
   "metadata": {},
   "outputs": [],
   "source": [
    "class SubmarineBinaryDiagnostic:\n",
    "    def __init__(self, data):\n",
    "        self.diagnostic_report = data\n",
    "        self.power_consumption = None\n",
    "        self.gamma_rate = None\n",
    "        self.epsilon_rate = None\n",
    "        self.life_support_rating = None\n",
    "        self.oxygen_generator_rating = None\n",
    "        self.CO2_scrubber_rating = None\n",
    "        \n",
    "    def get_power_consumption(self):\n",
    "        self.gamma_rate = ''\n",
    "        self.epsilon_rate = ''\n",
    "\n",
    "        for i in range(len(self.diagnostic_report[0])):\n",
    "            check_sum = 0\n",
    "            \n",
    "            for item in self.diagnostic_report:\n",
    "                check_sum += int(item[i])\n",
    "                \n",
    "            if check_sum >= len(self.diagnostic_report)/2:\n",
    "                self.gamma_rate += '1'\n",
    "                self.epsilon_rate += '0'\n",
    "            else:\n",
    "                self.gamma_rate += '0'\n",
    "                self.epsilon_rate += '1'\n",
    "        \n",
    "        self.power_consumption = int(self.gamma_rate, 2) * int(self.epsilon_rate, 2)\n",
    "        return self.power_consumption\n",
    "    \n",
    "    def get_oxygen_generator_rating(self):\n",
    "        filtered_report = self.diagnostic_report.copy()\n",
    "        i = 0\n",
    "        while len(filtered_report) != 1:\n",
    "            check_sum = 0\n",
    "            \n",
    "            try:\n",
    "                for item in filtered_report:\n",
    "                    check_sum += int(item[i])\n",
    "            except IndexError:\n",
    "                print('Index Error on bit #', i)\n",
    "                break\n",
    "                \n",
    "            if check_sum >= len(filtered_report)/2:\n",
    "                new_filtered_report = []\n",
    "                for item in filtered_report:\n",
    "                    if item[i] == '1':\n",
    "                        new_filtered_report.append(item)\n",
    "            else:\n",
    "                new_filtered_report = []\n",
    "                for item in filtered_report:\n",
    "                    if item[i] == '0':\n",
    "                        new_filtered_report.append(item)\n",
    "            filtered_report = new_filtered_report\n",
    "            i += 1\n",
    "        self.oxygen_generator_rating = filtered_report[0]\n",
    "        del filtered_report\n",
    "        return self.oxygen_generator_rating\n",
    "                \n",
    "    def get_CO2_scrubber_rating(self):\n",
    "        filtered_report = self.diagnostic_report.copy()\n",
    "        i = 0\n",
    "        while len(filtered_report) != 1:\n",
    "            check_sum = 0\n",
    "            \n",
    "            try:\n",
    "                for item in filtered_report:\n",
    "                    check_sum += int(item[i])\n",
    "            except IndexError:\n",
    "                print('Index Error on bit #', i)\n",
    "                break\n",
    "                \n",
    "            if check_sum >= len(filtered_report)/2:\n",
    "                new_filtered_report = []\n",
    "                for item in filtered_report:\n",
    "                    if item[i] == '0':\n",
    "                        new_filtered_report.append(item)\n",
    "            else:\n",
    "                new_filtered_report = []\n",
    "                for item in filtered_report:\n",
    "                    if item[i] == '1':\n",
    "                        new_filtered_report.append(item)\n",
    "            filtered_report = new_filtered_report\n",
    "            i += 1\n",
    "        self.CO2_scrubber_rating = filtered_report[0]\n",
    "        del filtered_report\n",
    "        return self.CO2_scrubber_rating\n",
    "    \n",
    "    def get_life_support_rating(self):\n",
    "        if not self.CO2_scrubber_rating:\n",
    "            self.get_CO2_scrubber_rating()\n",
    "        if not self.oxygen_generator_rating:\n",
    "            self.get_oxygen_generator_rating()\n",
    "        self.life_support_rating = int(self.oxygen_generator_rating,2) * int(self.CO2_scrubber_rating,2)\n",
    "        return self.life_support_rating\n"
   ]
  },
  {
   "cell_type": "markdown",
   "metadata": {},
   "source": [
    "## part 1"
   ]
  },
  {
   "cell_type": "code",
   "execution_count": 79,
   "metadata": {},
   "outputs": [],
   "source": [
    "test1 = SubmarineBinaryDiagnostic(sample_data)"
   ]
  },
  {
   "cell_type": "code",
   "execution_count": 80,
   "metadata": {},
   "outputs": [
    {
     "name": "stdout",
     "output_type": "stream",
     "text": [
      "True True True\n"
     ]
    }
   ],
   "source": [
    "print(test1.get_power_consumption() == 198,\n",
    "    test1.gamma_rate == '10110',\n",
    "    test1.epsilon_rate == '01001')"
   ]
  },
  {
   "cell_type": "code",
   "execution_count": 81,
   "metadata": {},
   "outputs": [
    {
     "data": {
      "text/plain": [
       "4001724"
      ]
     },
     "execution_count": 81,
     "metadata": {},
     "output_type": "execute_result"
    }
   ],
   "source": [
    "SubmarineBinaryDiagnostic(data).get_power_consumption()"
   ]
  },
  {
   "cell_type": "markdown",
   "metadata": {},
   "source": [
    "## part 2"
   ]
  },
  {
   "cell_type": "code",
   "execution_count": 82,
   "metadata": {},
   "outputs": [
    {
     "data": {
      "text/plain": [
       "True"
      ]
     },
     "execution_count": 82,
     "metadata": {},
     "output_type": "execute_result"
    }
   ],
   "source": [
    "SubmarineBinaryDiagnostic(sample_data).get_life_support_rating() == 230"
   ]
  },
  {
   "cell_type": "code",
   "execution_count": 83,
   "metadata": {},
   "outputs": [
    {
     "data": {
      "text/plain": [
       "587895"
      ]
     },
     "execution_count": 83,
     "metadata": {},
     "output_type": "execute_result"
    }
   ],
   "source": [
    "SubmarineBinaryDiagnostic(data).get_life_support_rating()"
   ]
  }
 ],
 "metadata": {
  "kernelspec": {
   "display_name": "Python 3",
   "language": "python",
   "name": "python3"
  },
  "language_info": {
   "codemirror_mode": {
    "name": "ipython",
    "version": 3
   },
   "file_extension": ".py",
   "mimetype": "text/x-python",
   "name": "python",
   "nbconvert_exporter": "python",
   "pygments_lexer": "ipython3",
   "version": "3.7.6"
  }
 },
 "nbformat": 4,
 "nbformat_minor": 4
}
